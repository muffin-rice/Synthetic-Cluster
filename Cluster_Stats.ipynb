{
 "cells": [
  {
   "cell_type": "code",
   "execution_count": 1,
   "metadata": {},
   "outputs": [],
   "source": [
    "from job_generator import Synthetic_Job_Generator\n",
    "from cluster import Cluster\n",
    "from job import Job \n",
    "from machine import Machine, GPU\n",
    "import pickle \n",
    "import numpy as np\n",
    "import utilities as utils\n",
    "import matplotlib.pyplot as plt"
   ]
  },
  {
   "cell_type": "code",
   "execution_count": 7,
   "metadata": {},
   "outputs": [],
   "source": [
    "def display_stats(cluster): \n",
    "    print(f'Total Time: \\t{cluster.finished_jobs[-1].finish_time}')\n",
    "    FTF_arr = utils.get_FTF(cluster1.finished_jobs)\n",
    "    print(f'Average FTF: \\t{np.average(FTF_arr)}')\n",
    "    print(f'Median FTF: \\t{np.median(FTF_arr)}')\n",
    "    plt.hist(utils.get_FTF(cluster1.finished_jobs), bins = 100, cumulative = True)\n",
    "    plt.title('CDF of FTF')\n",
    "    plt.show() \n",
    "    \n",
    "    gpu_util_arr = utils.get_all_gpu_utilization(cluster1)\n",
    "    print(f'Average GPU Util: \\t{np.average(gpu_util_arr)}')\n",
    "    print(f'Median GPU Util: \\t{np.median(gpu_util_arr)}')\n",
    "    \n",
    "    factor_arr = utils.get_average_factors(cluster1.finished_jobs)\n",
    "    plt.hist(factor_arr, bins=50)\n",
    "    plt.show()\n",
    "    print(f'Average factor:\\t{np.average(gpu_util_arr)}')\n",
    "    print(f'Median factor:\\t{np.median(gpu_util_arr)}')\n",
    "    \n",
    "    JCT_arr = utils.get_JCT(cluster1.finished_jobs)\n",
    "    print(f'Average JCT:\\t{np.average(JCT_arr)}')"
   ]
  },
  {
   "cell_type": "code",
   "execution_count": 9,
   "metadata": {},
   "outputs": [],
   "source": [
    "cluster1 = pickle.load(open('data/FIFO-results/test-1.pkl', 'rb'))"
   ]
  },
  {
   "cell_type": "code",
   "execution_count": 10,
   "metadata": {},
   "outputs": [
    {
     "name": "stdout",
     "output_type": "stream",
     "text": [
      "Total Time: \t317920\n",
      "Average FTF: \t7.25496090709359\n",
      "Median FTF: \t4.972454897712455\n"
     ]
    },
    {
     "data": {
      "image/png": "[encoded data removed]",
      "text/plain": [
       "<Figure size 432x288 with 1 Axes>"
      ]
     },
     "metadata": {
      "needs_background": "light"
     },
     "output_type": "display_data"
    },
    {
     "name": "stdout",
     "output_type": "stream",
     "text": [
      "Average GPU Util: \t1.0\n",
      "Median GPU Util: \t1.0\n"
     ]
    },
    {
     "data": {
      "image/png": "[encoded data removed]",
      "text/plain": [
       "<Figure size 432x288 with 1 Axes>"
      ]
     },
     "metadata": {
      "needs_background": "light"
     },
     "output_type": "display_data"
    },
    {
     "name": "stdout",
     "output_type": "stream",
     "text": [
      "Average factor:\t1.0\n",
      "Median factor:\t1.0\n",
      "Average JCT:\t56704.55\n"
     ]
    }
   ],
   "source": [
    "display_stats(cluster1)"
   ]
  },
  {
   "cell_type": "code",
   "execution_count": 11,
   "metadata": {},
   "outputs": [
    {
     "name": "stdout",
     "output_type": "stream",
     "text": [
      "Total Time: \t409884\n",
      "Average FTF: \t7.25496090709359\n",
      "Median FTF: \t4.972454897712455\n"
     ]
    },
    {
     "data": {
      "image/png": "[encoded data removed]",
      "text/plain": [
       "<Figure size 432x288 with 1 Axes>"
      ]
     },
     "metadata": {
      "needs_background": "light"
     },
     "output_type": "display_data"
    },
    {
     "name": "stdout",
     "output_type": "stream",
     "text": [
      "Average GPU Util: \t1.0\n",
      "Median GPU Util: \t1.0\n"
     ]
    },
    {
     "data": {
      "image/png": "[encoded data removed]",
      "text/plain": [
       "<Figure size 432x288 with 1 Axes>"
      ]
     },
     "metadata": {
      "needs_background": "light"
     },
     "output_type": "display_data"
    },
    {
     "name": "stdout",
     "output_type": "stream",
     "text": [
      "Average factor:\t1.0\n",
      "Median factor:\t1.0\n",
      "Average JCT:\t56704.55\n"
     ]
    }
   ],
   "source": [
    "cluster2 = pickle.load(open('data/FIFO-results/test-2.pkl', 'rb'))\n",
    "display_stats(cluster2)"
   ]
  },
  {
   "cell_type": "code",
   "execution_count": null,
   "metadata": {},
   "outputs": [],
   "source": []
  }
 ],
 "metadata": {
  "kernelspec": {
   "display_name": "Python 3",
   "language": "python",
   "name": "python3"
  },
  "language_info": {
   "codemirror_mode": {
    "name": "ipython",
    "version": 3
   },
   "file_extension": ".py",
   "mimetype": "text/x-python",
   "name": "python",
   "nbconvert_exporter": "python",
   "pygments_lexer": "ipython3",
   "version": "3.8.1"
  }
 },
 "nbformat": 4,
 "nbformat_minor": 4
}
